{
  "cells": [
    {
      "cell_type": "markdown",
      "metadata": {
        "_cell_guid": "489640a0-a92b-af42-8800-f19987b649f5",
        "_uuid": "2f98d3eeb70c52df8aad283a57708b1520a8775e"
      },
      "source": [
        "Importing Modules"
      ],
      "outputs": [],
      "execution_count": null
    },
    {
      "cell_type": "code",
      "execution_count": null,
      "metadata": {
        "_cell_guid": "5e7427c8-9058-09fe-12c2-77b02128fcb5",
        "_uuid": "5c0763b9210ff7a87177a14a46e1b5c76a417ad8"
      },
      "outputs": [],
      "source": [
        "import numpy as np\n",
        "import pandas as pd\n",
        "import collections\n",
        "import seaborn as sns"
      ]
    },
    {
      "cell_type": "markdown",
      "metadata": {
        "_cell_guid": "92d9ad53-d2e6-da81-e664-4ef287f5e782",
        "_uuid": "317753a3f66108045d4bc01508330d705a27ef2b"
      },
      "source": [
        "Loading Data"
      ],
      "outputs": [],
      "execution_count": null
    },
    {
      "cell_type": "code",
      "execution_count": null,
      "metadata": {
        "_cell_guid": "e6591aae-0a6e-437a-0e1b-f04401f3128b",
        "_uuid": "c53440fb367e160f31fb6c1d44124923b08d844b"
      },
      "outputs": [],
      "source": [
        "df = pd.read_csv(\"../input/steam-200k.csv\", header=None, index_col=None, names=['UserID', 'Game', 'Action', 'Hours', 'Other'])\n",
        "df = df[df['Hours'] != 1]\n",
        "df.head()"
      ]
    },
    {
      "cell_type": "markdown",
      "metadata": {
        "_cell_guid": "d0fddddd-6b0a-92aa-8234-13bc5929f9c7",
        "_uuid": "3ba1270adf3d89fedfcb09ff6e14642eac73d472"
      },
      "source": [
        "Data description shows that the 'other' column is blank. So we have hours and games to work with."
      ],
      "outputs": [],
      "execution_count": null
    },
    {
      "cell_type": "code",
      "execution_count": null,
      "metadata": {
        "_cell_guid": "bf75c5ed-c3e9-cd2f-4192-894cf8ad34b4",
        "_uuid": "9a0c00cf35289e17308e37c61e901bf8625a3ba3"
      },
      "outputs": [],
      "source": [
        "df.describe().round()"
      ]
    },
    {
      "cell_type": "markdown",
      "metadata": {
        "_cell_guid": "a21c8be8-50d4-9bd8-f0b1-2fad78beebdf",
        "_uuid": "7681b77efcb8c3aea7e1aca561cecbe18d903184"
      },
      "source": [
        "Creating Hours Interval Column"
      ],
      "outputs": [],
      "execution_count": null
    },
    {
      "cell_type": "code",
      "execution_count": null,
      "metadata": {
        "_cell_guid": "6ffc5a08-9541-4406-8acd-ee54cd44363a",
        "_uuid": "0a52c159d03a390964d439d4f7f10585cc41b81a"
      },
      "outputs": [],
      "source": [
        "interval = df['Hours'].max()/df['Hours'].mean()\n",
        "print(interval)\n",
        "df['HoursIntervals'] = pd.cut(df['Hours'],interval)\n",
        "df.head()"
      ]
    },
    {
      "cell_type": "markdown",
      "metadata": {
        "_cell_guid": "64d71ded-0b04-1b68-0566-b1dfdd6d5ea4",
        "_uuid": "9930eebdf09d68fc8ee33169633bab6c2921050b"
      },
      "source": [
        "**Part I: User behavior based on playing time**  \n",
        "*A) How Many Games does User Play in Defined Time-Intervals*"
      ],
      "outputs": [],
      "execution_count": null
    },
    {
      "cell_type": "code",
      "execution_count": null,
      "metadata": {
        "_cell_guid": "bb154d35-f322-a96f-b725-ef269e1895c7",
        "_uuid": "f86177554c2d364e04619ce4ac7b50ba77235fc9"
      },
      "outputs": [],
      "source": [
        "df_pivot = df.pivot_table(index = 'UserID', columns = 'HoursIntervals', values = 'Game', aggfunc = np.count_nonzero)\n",
        "df_pivot.head()"
      ]
    },
    {
      "cell_type": "markdown",
      "metadata": {
        "_cell_guid": "577cb022-927f-3664-d0df-dae34adfbf2d",
        "_uuid": "6939e10fac7a0ec184bdd686dcf3fa851c35f61a"
      },
      "source": [
        "*B) Histogram to see the distribution*"
      ],
      "outputs": [],
      "execution_count": null
    },
    {
      "cell_type": "code",
      "execution_count": null,
      "metadata": {
        "_cell_guid": "5cb1385d-0660-656d-1cdd-0867de7368bd",
        "_uuid": "e8b16bfb3a6f65c3930c6827660c78287c6829f8"
      },
      "outputs": [],
      "source": [
        "sns.countplot(x=\"HoursIntervals\", data=df, palette=\"Greens_d\");"
      ]
    },
    {
      "cell_type": "markdown",
      "metadata": {
        "_cell_guid": "c90c3a59-c7dd-79e1-b231-46be2f61e447",
        "_uuid": "915d1a374f3622538a254db3522b40729dc89cd4"
      },
      "source": [
        "**(A) Pivot Table** and **(B) Histogram**  clearly show that the playing hours by users are majorly skewed towards left i.e. towards lesser numerical value of playing hours.  \n",
        "Apologies for the formatting."
      ],
      "outputs": [],
      "execution_count": null
    },
    {
      "cell_type": "markdown",
      "metadata": {
        "_cell_guid": "ce8a8a6e-a742-a41a-2be1-e086a7ee4abd",
        "_uuid": "4526516040a7cc0d284f0a5670df605cd5677deb"
      },
      "source": [
        "**Part II:**"
      ],
      "outputs": [],
      "execution_count": null
    },
    {
      "cell_type": "code",
      "execution_count": null,
      "metadata": {
        "_cell_guid": "6a5dc45a-8895-32d6-b74e-fe804750b085",
        "_uuid": "c109177e1595d9722b5f7d5770ce83b1c6e3992e"
      },
      "outputs": [],
      "source": [
        "df_gpu = df.groupby('UserID').agg({'Game': np.count_nonzero, 'Hours': np.mean}).round()\n",
        "df_gpu['Heavy Gamer'] = df_gpu['Hours']>400 #400 being Mean + 1 Std. Devition\n",
        "Heavy_Gamer_Count = collections.Counter(df_gpu['Heavy Gamer'])\n",
        "print('Only', Heavy_Gamer_Count[1], 'out of', Heavy_Gamer_Count[0]+Heavy_Gamer_Count[0], ' are serious gamers')"
      ]
    },
    {
      "cell_type": "code",
      "execution_count": null,
      "metadata": {
        "_cell_guid": "c90aad42-52b2-1740-a9fc-4cd9c077efd2",
        "_uuid": "2f817e1e06ceb120d6d1a861d963e3d0a1033059"
      },
      "outputs": [],
      "source": [
        "df_gpu.describe().round()"
      ]
    },
    {
      "cell_type": "markdown",
      "metadata": {
        "_cell_guid": "c7825c1d-cc65-20e7-4635-e3b0506b6da6",
        "_uuid": "0cd59131814502951a74c03c350e86be6239581c"
      },
      "source": [
        "**Part III:**  \n",
        "Most common Playing Time "
      ],
      "outputs": [],
      "execution_count": null
    },
    {
      "cell_type": "code",
      "execution_count": null,
      "metadata": {
        "_cell_guid": "12a8e38f-42ce-2337-ad4b-8850b9327e43",
        "_uuid": "201cd0e512808178bf803e6cd7905ae8e72812cd"
      },
      "outputs": [],
      "source": [
        "counts_hours = collections.Counter(df['HoursIntervals'])\n",
        "counts_hours_most = counts_hours.most_common(5)\n",
        "counts_hours_most = pd.DataFrame(np.array(counts_hours_most).reshape(5,2), columns = ['HoursIntervals', 'No_of_Users'])\n",
        "counts_hours_most"
      ]
    },
    {
      "cell_type": "markdown",
      "metadata": {
        "_cell_guid": "88b46a5a-eba6-c369-9473-e3406193092e",
        "_uuid": "7bac7b1dbb54245823488d72c04474e03a63f392"
      },
      "source": [
        "**Below are the takeaways:**    \n",
        "**Part I:**  \n",
        "Very few users are engaged with games for high number of hours. It could be attributed to game characteristic or user behavior.   \n",
        "**Part II:**  \n",
        "Only 531 (Approx.) serious gamers out of almost 20000 gamers. Both they categories can furhter be studies.  \n",
        "**Part III:**  \n",
        "Maximum users spend 0 -50 hours per game.  \n",
        "*Reason could be length of the game, checking out the game or may be that is the average time games can keep users engaged and interested. this gives a hint of further exploration into the data.*  "
      ],
      "outputs": [],
      "execution_count": null
    },
    {
      "cell_type": "code",
      "execution_count": null,
      "metadata": {
        "_cell_guid": "48cf07b5-500d-60ea-9869-1d4799c02cac",
        "_uuid": "027b6f9b2ffc6961018fce59cc17ad876cc081b5"
      },
      "outputs": [],
      "source": ""
    }
  ],
  "metadata": {
    "_change_revision": 0,
    "_is_fork": false,
    "kernelspec": {
      "display_name": "Python 3",
      "language": "python",
      "name": "python3"
    },
    "language_info": {
      "name": "python",
      "version": "3.6.0",
      "mimetype": "text/x-python",
      "codemirror_mode": {
        "name": "ipython",
        "version": 3
      },
      "pygments_lexer": "ipython3",
      "nbconvert_exporter": "python",
      "file_extension": ".py"
    }
  },
  "nbformat": 4,
  "nbformat_minor": 0
}
